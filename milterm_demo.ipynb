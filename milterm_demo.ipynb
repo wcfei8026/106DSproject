{
 "cells": [
  {
   "cell_type": "code",
   "execution_count": 6,
   "metadata": {},
   "outputs": [
    {
     "name": "stdout",
     "output_type": "stream",
     "text": [
      "Enter the file path of gdelt_csv:<1>gdelt_small_data.csv <2>20160218230000.export.CSV 2\n",
      "/home/joadmin/20160218230000.export.CSV\n"
     ]
    }
   ],
   "source": [
    "import findspark\n",
    "findspark.init('/home/joadmin/spark-2.1.2-bin-hadoop2.7/')\n",
    "import pyspark\n",
    "from pyspark.sql import SparkSession\n",
    "from pyspark.sql.functions import *\n",
    "spark = SparkSession.builder.appName('gdelt_1').config(\"spark.jars.packages\", \"graphframes:graphframes:0.5.0-spark2.1-s_2.11\").getOrCreate()\n",
    "csvpathOpt = input(\"Enter the file path of gdelt_csv:<1>gdelt_small_data.csv <2>20160218230000.export.CSV \")\n",
    "if(csvpathOpt == '1'):\n",
    "    csvpath = \"/home/joadmin/gdelt_small_data.csv\"\n",
    "    df = spark.read.load(csvpath,format=\"csv\", delimiter=\"\\t\", header=True)\n",
    "elif(csvpathOpt == '2'):\n",
    "    csvpath = \"/home/joadmin/20160218230000.export.CSV\"\n",
    "    df = spark.read.load(csvpath,format=\"csv\", delimiter=\"\\t\", header=True)\n",
    "else:\n",
    "    print(\"Input error, faild to load CSV!\")\n",
    "    #break\n",
    "print(csvpath)"
   ]
  },
  {
   "cell_type": "code",
   "execution_count": 7,
   "metadata": {},
   "outputs": [
    {
     "name": "stdout",
     "output_type": "stream",
     "text": [
      "+--------------------+------------+----------------+-----------------+\n",
      "|                  id|  Actor1Code|Actor1EthnicCode|Actor1CountryCode|\n",
      "+--------------------+------------+----------------+-----------------+\n",
      "|             LEBANON|         LBN|            null|              LBN|\n",
      "|            MICHIGAN|         USA|            null|              USA|\n",
      "|             NIGERIA|      NGAJUD|            null|              NGA|\n",
      "|            BELIEVER|         REL|            null|             null|\n",
      "|       CIVIL SOCIETY|         CVL|            null|             null|\n",
      "|               SYRIA|      SYRMIL|            null|              SYR|\n",
      "|               ODESA|      UKRGOV|            null|              UKR|\n",
      "|            PRODUCER|         BUS|            null|             null|\n",
      "|               CHINA|      CHNGOV|            null|              CHN|\n",
      "|              LONDON|      GBRHLH|            null|              GBR|\n",
      "|             TUNISIA|         TUN|            null|              TUN|\n",
      "|            CRIMINAL|         CRM|            null|             null|\n",
      "|           KIDNAPPER|         CRM|            null|             null|\n",
      "|     ETHNIC MINORITY|      CVLCVL|            null|             null|\n",
      "|          WORLD BANK|IGOUNODEVWBK|            null|             null|\n",
      "|DOCTORS WITHOUT B...|   NGOHLHMSF|            null|             null|\n",
      "|            MICHIGAN|      USALEG|            null|              USA|\n",
      "|            EMPLOYER|         BUS|            null|             null|\n",
      "|              DOCTOR|         HLH|            null|             null|\n",
      "|        RIGHTS GROUP|         HRI|            null|             null|\n",
      "+--------------------+------------+----------------+-----------------+\n",
      "only showing top 20 rows\n",
      "\n"
     ]
    }
   ],
   "source": [
    "df = spark.read.load(csvpath,format=\"csv\", delimiter=\"\\t\", header=True)\n",
    "#df2 = df.select('Actor1Code AS \"f1\", Actor2Code as f2, EventID as f3\")\n",
    "#df.printSchema() #print out the schema of your dataset\n",
    "df2 = df.select([c for c in df.columns if c in {'Actor1Code','Actor1Name','Actor1EthnicCode','Actor1CountryCode'}])\n",
    "df3 = df.select([c for c in df.columns if c in {'Actor2Code','Actor2Name','Actor2EthnicCode','Actor2CountryCode'}])\n",
    "\n",
    "df2.join(df3)\n",
    "\n",
    "vertex = df2.distinct() #get distinct row\n",
    "vertex = vertex.selectExpr(\"Actor1Name as id\", \"Actor1Code as Actor1Code\", \"Actor1EthnicCode as Actor1EthnicCode\", \"Actor1CountryCode as Actor1CountryCode\" )\n",
    "vertex.show() #print out the dataset\n",
    "\n",
    "#df2.filter(col('Actor1Code').isin(['MIL'])).show()\n"
   ]
  },
  {
   "cell_type": "code",
   "execution_count": 9,
   "metadata": {
    "scrolled": true
   },
   "outputs": [
    {
     "name": "stdout",
     "output_type": "stream",
     "text": [
      "+-------------+-------------+------------+\n",
      "|          src|          dst|relationship|\n",
      "+-------------+-------------+------------+\n",
      "|         null|      TROOPER|         173|\n",
      "|         null|         NAVY|         192|\n",
      "|         null|         NAVY|         192|\n",
      "|     BUSINESS|         null|         172|\n",
      "|      TROOPER|UNITED STATES|         173|\n",
      "|DAVID CAMERON|      BRITISH|         040|\n",
      "|  AUTHORITIES|         null|         172|\n",
      "|         IRAN|  SOUTH KOREA|         150|\n",
      "|         IRAN|  SOUTH KOREA|         150|\n",
      "|         IRAN|     MILITARY|         046|\n",
      "|         IRAN|     MILITARY|         046|\n",
      "| SOUTH KOREAN|  NEWS AGENCY|         010|\n",
      "|       MEXICO|     CONGRESS|         020|\n",
      "|     MILITARY|         IRAN|         046|\n",
      "|     MILITARY|         IRAN|         046|\n",
      "|     MOTOROLA|         null|         010|\n",
      "|    TERRORIST|     PAKISTAN|         190|\n",
      "|UNITED STATES|         null|         015|\n",
      "|   WASHINGTON|  SOUTH KOREA|         150|\n",
      "|         null|        CUBAN|         173|\n",
      "+-------------+-------------+------------+\n",
      "only showing top 20 rows\n",
      "\n"
     ]
    }
   ],
   "source": [
    "df.createOrReplaceTempView(\"table1\")\n",
    "edge = spark.sql(\"SELECT Actor1Name AS src, Actor2Name as dst, EventCode as relationship from table1\")\n",
    "edge.collect()\n",
    "\n",
    "edge.show()\n"
   ]
  },
  {
   "cell_type": "code",
   "execution_count": 18,
   "metadata": {},
   "outputs": [
    {
     "name": "stdout",
     "output_type": "stream",
     "text": [
      "+-------------------+--------+\n",
      "|                 id|inDegree|\n",
      "+-------------------+--------+\n",
      "|             HUNTER|       1|\n",
      "|             SENATE|      11|\n",
      "|          SPOKESMAN|       2|\n",
      "|               GANG|       3|\n",
      "|   PRANAB MUKHERJEE|       3|\n",
      "|          DISSIDENT|       1|\n",
      "|WORLD WILDLIFE FUND|       1|\n",
      "|         NEW JERSEY|       7|\n",
      "|   OPPOSITION PARTY|       1|\n",
      "|           UPRISING|       3|\n",
      "|            ORLANDO|       5|\n",
      "|           CAMBODIA|      11|\n",
      "|           COMMANDO|       1|\n",
      "|              JAPAN|       4|\n",
      "|             MURRAY|       1|\n",
      "|         BANGLADESH|       6|\n",
      "|             UGANDA|       1|\n",
      "|       INDIANAPOLIS|       5|\n",
      "|    FIRE DEPARTMENT|       1|\n",
      "| PARAMILITARY FORCE|       1|\n",
      "+-------------------+--------+\n",
      "only showing top 20 rows\n",
      "\n",
      "<class 'pyspark.sql.dataframe.DataFrame'>\n",
      "[Row(id=None, inDegree=605), Row(id='UNITED STATES', inDegree=217), Row(id='CUBA', inDegree=62), Row(id='UNITED KINGDOM', inDegree=35), Row(id='SYRIA', inDegree=35), Row(id='GOVERNMENT', inDegree=29), Row(id='PRESIDENT', inDegree=27), Row(id='CANADA', inDegree=26), Row(id='SCHOOL', inDegree=26), Row(id='COMPANY', inDegree=23), Row(id='UNIVERSITY', inDegree=23), Row(id='COMMUNITY', inDegree=22), Row(id='POLICE', inDegree=21), Row(id='MEXICO', inDegree=18), Row(id='IRAN', inDegree=18), Row(id='HOSPITAL', inDegree=17), Row(id='PAKISTAN', inDegree=16), Row(id='AFRICA', inDegree=16), Row(id='TURKEY', inDegree=16), Row(id='OBAMA', inDegree=15), Row(id='MEDIA', inDegree=13), Row(id='WORKER', inDegree=13), Row(id='STUDENT', inDegree=13), Row(id='RUSSIA', inDegree=13), Row(id='ATTORNEY', inDegree=13), Row(id='CUBAN', inDegree=12), Row(id='BUSINESS', inDegree=12), Row(id='SAUDI ARABIA', inDegree=12), Row(id='IMMIGRANT', inDegree=12), Row(id='SENATE', inDegree=11), Row(id='CAMBODIA', inDegree=11), Row(id='SOMALIA', inDegree=11), Row(id='ISLAMIC', inDegree=11), Row(id='GOVERNOR', inDegree=11), Row(id='RUSSIAN', inDegree=11), Row(id='CHINA', inDegree=11), Row(id='COMPANIES', inDegree=11), Row(id='AUSTRALIA', inDegree=11), Row(id='MILITARY', inDegree=10), Row(id='SOUTH KOREA', inDegree=10), Row(id='EMPLOYEE', inDegree=10), Row(id='AMERICAN', inDegree=10), Row(id='THE EUROPEAN UNION', inDegree=9), Row(id='VILLAGE', inDegree=9), Row(id='ARGENTINA', inDegree=9), Row(id='VOTER', inDegree=9), Row(id='QATAR', inDegree=9), Row(id='ISRAEL', inDegree=9), Row(id='THE US', inDegree=9), Row(id='YEMEN', inDegree=9), Row(id='JERSEY', inDegree=8), Row(id='JACKSONVILLE', inDegree=8), Row(id='SYRIAN', inDegree=8), Row(id='COLLEGE', inDegree=8), Row(id='DOCTOR', inDegree=8), Row(id='LIBYA', inDegree=8), Row(id='BRITISH', inDegree=8), Row(id='NEW JERSEY', inDegree=7), Row(id='TERRORIST', inDegree=7), Row(id='INDUSTRY', inDegree=7), Row(id='FLORIDA', inDegree=7), Row(id='RETIRED', inDegree=7), Row(id='SUPREME COURT', inDegree=7), Row(id='FRANCE', inDegree=7), Row(id='DEPUTY', inDegree=7), Row(id='OHIO', inDegree=7), Row(id='BANGLADESH', inDegree=6), Row(id='JUDGE', inDegree=6), Row(id='CRIMINAL', inDegree=6), Row(id='TURKISH', inDegree=6), Row(id='MIGRANT', inDegree=6), Row(id='NATIONAL ASSEMBLY', inDegree=6), Row(id='PRESIDENTIAL CANDIDATE', inDegree=6), Row(id='SINGAPORE', inDegree=6), Row(id='LIBERATION TIGERS OF TAMIL EELAM', inDegree=6), Row(id='ANKARA', inDegree=6), Row(id='BARACK OBAMA', inDegree=6), Row(id='NEWS AGENCY', inDegree=6), Row(id='MILITANT', inDegree=6), Row(id='REUTERS', inDegree=6), Row(id='REFUGEE', inDegree=6), Row(id='NEW YORK', inDegree=6), Row(id='PANAMA', inDegree=6), Row(id='LEGISLATOR', inDegree=6), Row(id='GOOGLE', inDegree=6), Row(id='REGIME', inDegree=6), Row(id='IRELAND', inDegree=6), Row(id='ORLANDO', inDegree=5), Row(id='INDIANAPOLIS', inDegree=5), Row(id='WISCONSIN', inDegree=5), Row(id='JORDAN', inDegree=5), Row(id='MINIST', inDegree=5), Row(id='LAWMAKER', inDegree=5), Row(id='ANGELA MERKEL', inDegree=5), Row(id='ACTIVIST', inDegree=5), Row(id='GROUND TROOP', inDegree=5), Row(id='ADVOCATE', inDegree=5), Row(id='KURD', inDegree=5), Row(id='PROTESTER', inDegree=5), Row(id='PARLIAMENT', inDegree=5), Row(id='MAORI', inDegree=5), Row(id='CARRIER', inDegree=5), Row(id='NIGERIA', inDegree=5), Row(id='CIVILIAN', inDegree=5), Row(id='ASYLUM SEEKER', inDegree=5), Row(id='METHODIST', inDegree=5), Row(id='COLOMBIAN', inDegree=5), Row(id='NEW ZEALAND', inDegree=5), Row(id='LEBANON', inDegree=5), Row(id='PAKISTANI', inDegree=5), Row(id='NAURU', inDegree=5), Row(id='IRAQ', inDegree=5), Row(id='FRENCH', inDegree=5), Row(id='JAPAN', inDegree=4), Row(id='COUNSEL', inDegree=4), Row(id='SCOTLAND', inDegree=4), Row(id='PURSAT', inDegree=4), Row(id='LONDON', inDegree=4), Row(id='UNITED NATIONS', inDegree=4), Row(id='SPECIAL FORCES', inDegree=4), Row(id='PERPETRATOR', inDegree=4), Row(id='CATHOLIC', inDegree=4), Row(id='CITIZEN', inDegree=4), Row(id='NORTH KOREA', inDegree=4), Row(id='NAVY', inDegree=4), Row(id='WASHINGTON', inDegree=4), Row(id='OTTAWA', inDegree=4), Row(id='THE WHITE HOUSE', inDegree=4), Row(id='DAVID CAMERON', inDegree=4), Row(id='MEXICAN', inDegree=4), Row(id='EUROPE', inDegree=4), Row(id='PHILADELPHIA', inDegree=4), Row(id='THE EU', inDegree=4), Row(id='AFGHANISTAN', inDegree=4), Row(id='HEALTH FACILITY', inDegree=4), Row(id='LEGISLATURE', inDegree=4), Row(id='PROSECUTOR', inDegree=4), Row(id='VIETNAM', inDegree=4), Row(id='TOURIST', inDegree=4), Row(id='THE OPPOSITION', inDegree=4), Row(id='GERMANY', inDegree=4), Row(id='OKLAHOMA CITY', inDegree=4), Row(id='EGYPT', inDegree=4), Row(id='GANG', inDegree=3), Row(id='PRANAB MUKHERJEE', inDegree=3), Row(id='UPRISING', inDegree=3), Row(id='FIRST LADY', inDegree=3), Row(id='NEWSPAPER', inDegree=3), Row(id='BALOCH', inDegree=3), Row(id='LENOVO', inDegree=3), Row(id='GEORGE W. BUSH', inDegree=3), Row(id='HILLARY CLINTON', inDegree=3), Row(id='AFGHAN', inDegree=3), Row(id='MICHIGAN', inDegree=3), Row(id='CHINESE', inDegree=3), Row(id='DEALER', inDegree=3), Row(id='PRIME MINISTER', inDegree=3), Row(id='RESIDENTS', inDegree=3), Row(id='ASEAN', inDegree=3), Row(id='BRUNEI', inDegree=3), Row(id='DOHA', inDegree=3), Row(id='ENGINEER', inDegree=3), Row(id='BENIN', inDegree=3), Row(id='AL QAIDA', inDegree=3), Row(id='MEXICO CITY', inDegree=3), Row(id='COMMANDER', inDegree=3), Row(id='SECURITY FORCE', inDegree=3), Row(id='JEWISH', inDegree=3), Row(id='TROOPER', inDegree=3), Row(id='BAHAMA', inDegree=3), Row(id='KING', inDegree=3), Row(id='RWANDA', inDegree=3), Row(id='RUNNER', inDegree=3), Row(id='LAWYER', inDegree=3), Row(id='UKRAINE', inDegree=3), Row(id='DETROIT', inDegree=3), Row(id='IRANIAN', inDegree=3), Row(id='DEFENSE FORCE', inDegree=3), Row(id='AUTHORITIES', inDegree=3), Row(id='JOURNALIST', inDegree=3), Row(id='MORO', inDegree=3), Row(id='WEBSITE', inDegree=3), Row(id='LOS ANGELES', inDegree=3), Row(id='JOHN MAHAMA', inDegree=3), Row(id='ARMY', inDegree=3), Row(id='BUFFALO', inDegree=3), Row(id='BOLIVIA', inDegree=3), Row(id='HUTU', inDegree=3), Row(id='NEVADA', inDegree=3), Row(id='GANGSTER', inDegree=3), Row(id='DICTATOR', inDegree=3), Row(id='SAGA', inDegree=3), Row(id='ELECTION COMMISSION', inDegree=3), Row(id='ARIZONA', inDegree=3), Row(id='TYCOON', inDegree=3), Row(id='CHIEF EXECUTIVE', inDegree=3), Row(id='PRODUCER', inDegree=3), Row(id='DELAWARE', inDegree=3), Row(id='PROFESSOR', inDegree=3), Row(id='SAMSUNG', inDegree=3), Row(id='SPOKESMAN', inDegree=2), Row(id='UNITARIAN', inDegree=2), Row(id='POLICEMAN', inDegree=2), Row(id='FIGHTER', inDegree=2), Row(id='DEMOCRATIC PARTY', inDegree=2), Row(id='RUSSIAN FEDERATION', inDegree=2), Row(id='CANADIAN', inDegree=2), Row(id='ALBANIA', inDegree=2), Row(id='MISSOURI', inDegree=2), Row(id='PORTLAND', inDegree=2), Row(id='INDIGENOUS', inDegree=2), Row(id='ROTARY CLUB', inDegree=2), Row(id='BEIJING', inDegree=2), Row(id='GERMAN', inDegree=2), Row(id='THE POPE', inDegree=2), Row(id='BRITAIN', inDegree=2), Row(id='WALL STREET JOURNAL', inDegree=2), Row(id='SHILLUK', inDegree=2), Row(id='COURT OF APPEALS', inDegree=2), Row(id='SIOUX', inDegree=2), Row(id='JACOB ZUMA', inDegree=2), Row(id='UNHCR', inDegree=2), Row(id='BANK', inDegree=2), Row(id='SAMOA', inDegree=2), Row(id='LATINOS', inDegree=2), Row(id='BARCELONA', inDegree=2), Row(id='GUNSLINGER', inDegree=2), Row(id='BOYKO BORISSOV', inDegree=2), Row(id='CHURCH OF THE LIVING WORD', inDegree=2), Row(id='DELHI', inDegree=2), Row(id='BAGHDAD', inDegree=2), Row(id='PUBLISHING HOUSE', inDegree=2), Row(id='MILWAUKEE', inDegree=2), Row(id='AID GROUP', inDegree=2), Row(id='DUBAI', inDegree=2), Row(id='POPULATION', inDegree=2), Row(id='PRISON', inDegree=2), Row(id='MOROCCO', inDegree=2), Row(id='SCOTTISH', inDegree=2), Row(id='SOUTH SUDAN', inDegree=2), Row(id='QUALCOMM', inDegree=2), Row(id='PRESBYTERIAN', inDegree=2), Row(id='MOSCOW', inDegree=2), Row(id='EUROPEAN', inDegree=2), Row(id='KUWAITI', inDegree=2), Row(id='PUBLICATION', inDegree=2), Row(id='DETECTIVE', inDegree=2), Row(id='SWITZERLAND', inDegree=2), Row(id='BULGARIA', inDegree=2), Row(id='INTERNATIONAL LABOUR ORGANIZATION', inDegree=2), Row(id='NORWAY', inDegree=2), Row(id='ROME', inDegree=2), Row(id='BLOGGER', inDegree=2), Row(id='RHODE ISLAND', inDegree=2), Row(id='NATIVE AMERICAN', inDegree=2), Row(id='NIGERIAN', inDegree=2), Row(id='UZBEKISTAN', inDegree=2), Row(id='OPPOSITION FACTION', inDegree=2), Row(id='BERLIN', inDegree=2), Row(id='RULING PARTY', inDegree=2), Row(id='THE UN', inDegree=2), Row(id='TONGA', inDegree=2), Row(id='INVESTOR', inDegree=2), Row(id='KINGDOM', inDegree=2), Row(id='SPAIN', inDegree=2), Row(id='EGYPTIAN', inDegree=2), Row(id='ENVIRONMENTALIST', inDegree=2), Row(id='NATO', inDegree=2), Row(id='KHMER', inDegree=2), Row(id='SOUTH AFRICAN', inDegree=2), Row(id='AGRICULTURE MINIST', inDegree=2), Row(id='SECURITY COUNCIL', inDegree=2), Row(id='MAGAZINE', inDegree=2), Row(id='DOCTORS WITHOUT BORDERS', inDegree=2), Row(id='CALIFORNIA', inDegree=2), Row(id='REBEL', inDegree=2), Row(id='DEUTSCHE', inDegree=2), Row(id='GENEVA', inDegree=2), Row(id='CHAD', inDegree=2), Row(id='CHRISTIANITY', inDegree=2), Row(id='THAI', inDegree=2), Row(id='PALESTINE', inDegree=2), Row(id='RAIDER', inDegree=2), Row(id='ENTREPRENEUR', inDegree=2), Row(id='ARKANSAS', inDegree=2), Row(id='HANOVER', inDegree=2), Row(id='BAHRAIN', inDegree=2), Row(id='INDIANA', inDegree=2), Row(id='HOUSE OF COMMONS', inDegree=2), Row(id='MUMBAI', inDegree=2), Row(id='HUNTER', inDegree=1), Row(id='DISSIDENT', inDegree=1), Row(id='WORLD WILDLIFE FUND', inDegree=1), Row(id='OPPOSITION PARTY', inDegree=1), Row(id='COMMANDO', inDegree=1), Row(id='MURRAY', inDegree=1), Row(id='UGANDA', inDegree=1), Row(id='FIRE DEPARTMENT', inDegree=1), Row(id='PARAMILITARY FORCE', inDegree=1), Row(id='DEPUTIES', inDegree=1), Row(id='ATHEISM', inDegree=1), Row(id='KINGSTON', inDegree=1), Row(id='PENNSYLVANIA', inDegree=1), Row(id='CONGRESSMAN', inDegree=1), Row(id='TANZANIA', inDegree=1), Row(id='MARYLAND', inDegree=1), Row(id='TRADER', inDegree=1), Row(id='PARLIAMENTARIAN', inDegree=1), Row(id='DEFENSE ATTORNEY', inDegree=1), Row(id='GREENVILLE', inDegree=1), Row(id='POLITICAL PARTIES', inDegree=1), Row(id='AFRICAN UNION', inDegree=1), Row(id='LAL MASJID', inDegree=1), Row(id='AUSTRALIAN', inDegree=1), Row(id='NARAYANGANJ', inDegree=1), Row(id='ISRAELI', inDegree=1), Row(id='BLOG', inDegree=1), Row(id='KHMER ROUGE', inDegree=1), Row(id='GOVERNMENT FORCES', inDegree=1), Row(id='PHOENIX', inDegree=1), Row(id='MAYOR', inDegree=1), Row(id='EDUCATION OFFICIAL', inDegree=1), Row(id='OREGON', inDegree=1), Row(id='VERIZON', inDegree=1), Row(id='MANILA', inDegree=1), Row(id='DINKA', inDegree=1), Row(id='POLICE OFFICER', inDegree=1), Row(id='HOUSTON', inDegree=1), Row(id='PARIS', inDegree=1), Row(id='UN MISSION', inDegree=1), Row(id='FIJI', inDegree=1), Row(id='DAMASCUS', inDegree=1), Row(id='MOTOROLA', inDegree=1), Row(id='SENATOR', inDegree=1), Row(id='DELEGATE', inDegree=1), Row(id='ALGERIA', inDegree=1), Row(id='UN SECURITY COUNCIL', inDegree=1), Row(id='EUROPEAN COMMISSION', inDegree=1), Row(id='BISHOP', inDegree=1), Row(id='NEW YORK STATE', inDegree=1), Row(id='MAINE', inDegree=1), Row(id='EL SALVADOR', inDegree=1), Row(id='BATTLE TANK', inDegree=1), Row(id='MILITARY OFFICER', inDegree=1), Row(id='SOUTH KOREAN', inDegree=1), Row(id='TAIWANESE', inDegree=1), Row(id='MOUNT CARMEL', inDegree=1), Row(id='COMMERCIAL BANK', inDegree=1), Row(id='PALMETTO STATE', inDegree=1), Row(id='FIDEL CASTRO', inDegree=1), Row(id='CHRISTIAN', inDegree=1), Row(id='PUBLIC DEFENDER', inDegree=1), Row(id='BOUTROS BOUTROS GHALI', inDegree=1), Row(id='NORTH CAROLINA', inDegree=1), Row(id='HEALTH OFFICIAL', inDegree=1), Row(id='UNITED STATES OF AMERICA', inDegree=1), Row(id='POLE', inDegree=1), Row(id='CORPORATION', inDegree=1), Row(id='SECRETARY OF STATE', inDegree=1), Row(id='CONGRESS', inDegree=1), Row(id='FARMER', inDegree=1), Row(id='BELIZE', inDegree=1), Row(id='MILITIA', inDegree=1), Row(id='SCHOLAR', inDegree=1), Row(id='UHURU KENYATTA', inDegree=1), Row(id='BUDDHIST', inDegree=1), Row(id='NASSAU', inDegree=1), Row(id='GOVERNMENT TROOPS', inDegree=1), Row(id='MINNESOTA', inDegree=1), Row(id='BRUSSELS', inDegree=1), Row(id='COUNSELOR', inDegree=1), Row(id='MALE', inDegree=1), Row(id='JOHN KEY', inDegree=1), Row(id='CINCINNATI', inDegree=1), Row(id='AIR FORCE', inDegree=1), Row(id='CHICAGO', inDegree=1), Row(id='BRISBANE', inDegree=1), Row(id='LAHORE', inDegree=1), Row(id='JUAREZ', inDegree=1), Row(id='FORD MOTOR', inDegree=1), Row(id='SCIENTIST', inDegree=1), Row(id='POLISH', inDegree=1), Row(id='NORWEGIAN', inDegree=1), Row(id='ADMINISTRATION', inDegree=1), Row(id='WRITER', inDegree=1), Row(id='KIWI', inDegree=1), Row(id='MEDECINS SANS FRONTIERES', inDegree=1), Row(id='DISTRICT COURT', inDegree=1), Row(id='VOLUNTEER STATE', inDegree=1), Row(id='SEATTLE', inDegree=1), Row(id='TELEVISION', inDegree=1), Row(id='SOCIAL WORKER', inDegree=1), Row(id='OPEC', inDegree=1), Row(id='UKRAINIAN', inDegree=1), Row(id='VIETNAMESE', inDegree=1), Row(id='MEMBER NATION', inDegree=1), Row(id='LAW ENFORCEMENT AGENCIES', inDegree=1), Row(id='BOSS', inDegree=1), Row(id='CALAIS', inDegree=1), Row(id='PRISONER', inDegree=1), Row(id='SUVA', inDegree=1), Row(id='INSURGENCY', inDegree=1), Row(id='AL JAZEERA', inDegree=1), Row(id='REFORMIST', inDegree=1), Row(id='BUSINESS LEADER', inDegree=1), Row(id='JUDAISM', inDegree=1), Row(id='TAIWAN', inDegree=1), Row(id='KENYA', inDegree=1), Row(id='SAUDI', inDegree=1), Row(id='UNIONS', inDegree=1), Row(id='JAPANESE', inDegree=1), Row(id='MINIST OF HEALTH', inDegree=1), Row(id='REPUBLIC OF KOREA', inDegree=1), Row(id='BERGEN', inDegree=1), Row(id='ABU DHABI', inDegree=1), Row(id='BORDER SECURITY', inDegree=1), Row(id='CENTRAL BANK', inDegree=1), Row(id='VATICAN', inDegree=1), Row(id='MANITOBA', inDegree=1), Row(id='KAZAKHSTANI', inDegree=1), Row(id='ANTHONY ALBANESE', inDegree=1), Row(id='GUERILLA', inDegree=1), Row(id='CLEVELAND', inDegree=1), Row(id='SIHANOUKVILLE', inDegree=1), Row(id='IOWA', inDegree=1), Row(id='ISLAM', inDegree=1), Row(id='CONSTITUENT', inDegree=1), Row(id='LAGOS', inDegree=1), Row(id='GREAT WALL', inDegree=1), Row(id='ONTARIO', inDegree=1), Row(id='SALT LAKE CITY', inDegree=1), Row(id='POLITICIAN', inDegree=1), Row(id='YEMENI', inDegree=1), Row(id='MUSLIM', inDegree=1), Row(id='GENERAL ASSEMBLY', inDegree=1), Row(id='WEST BANK', inDegree=1), Row(id='MASSACHUSETTS', inDegree=1), Row(id='NEIGHBORHOOD', inDegree=1), Row(id='CYPRUS', inDegree=1), Row(id='CIVIL SOCIETY', inDegree=1), Row(id='ABUJA', inDegree=1), Row(id='FEDERAL COURT', inDegree=1), Row(id='DOWNING STREET', inDegree=1), Row(id='DUTCH', inDegree=1), Row(id='ALABAMA', inDegree=1), Row(id='INDONESIA', inDegree=1), Row(id='CHAMBER', inDegree=1), Row(id='FARC', inDegree=1), Row(id='PROSECUTOR GENERAL', inDegree=1), Row(id='HEWLETT PACKARD', inDegree=1), Row(id='LIMA', inDegree=1), Row(id='MINISTRY', inDegree=1), Row(id='KANDAL', inDegree=1), Row(id='VENEZUELA', inDegree=1), Row(id='QUEENSLAND', inDegree=1), Row(id='MANUFACTURER', inDegree=1)]\n"
     ]
    },
    {
     "data": {
      "text/plain": [
       "95"
      ]
     },
     "execution_count": 18,
     "metadata": {},
     "output_type": "execute_result"
    }
   ],
   "source": [
    "from graphframes import *\n",
    "#--packages graphframes:graphframes:0.5.0-spark2.1-s_2.11\n",
    "\n",
    "g = GraphFrame(vertex, edge)\n",
    "\n",
    "# Query: Get in-degree of each vertex.\n",
    "g.inDegrees.show()\n",
    "#print (type(g.inDegrees))\n",
    "#print (g.inDegrees.orderBy(g.inDegrees.inDegree.desc()).collect())\n",
    "g.edges.filter(\"EventCode = '173'\").count()"
   ]
  },
  {
   "cell_type": "code",
   "execution_count": 36,
   "metadata": {},
   "outputs": [
    {
     "name": "stdout",
     "output_type": "stream",
     "text": [
      "+--------------------+-------------------+\n",
      "|                  id|           pagerank|\n",
      "+--------------------+-------------------+\n",
      "|                BANK| 0.1965300521588072|\n",
      "|            VILLAGER|               0.15|\n",
      "|            RICHMOND|               0.15|\n",
      "|             ONTARIO|0.17756826372808115|\n",
      "|CHURCH OF THE LIV...| 0.3009865444309504|\n",
      "|                MONK|               0.15|\n",
      "|        NEIGHBORHOOD|0.17576402256189974|\n",
      "|             IRELAND| 0.8238602150982135|\n",
      "|               SAMOA| 1.7868071402492123|\n",
      "|PROSECUTING ATTORNEY|               0.15|\n",
      "|               GHANA|               0.15|\n",
      "|               GHANA|               0.15|\n",
      "|            INTERPOL|               0.15|\n",
      "|          FAISALABAD|               0.15|\n",
      "|        JACKSONVILLE| 0.6385133040794575|\n",
      "|               BENIN|0.26415095303346814|\n",
      "|              FRANCE| 0.8981574513191302|\n",
      "|            GHANAIAN|               0.15|\n",
      "|            GHANAIAN|               0.15|\n",
      "|            COLUMBUS|               0.15|\n",
      "+--------------------+-------------------+\n",
      "only showing top 20 rows\n",
      "\n"
     ]
    }
   ],
   "source": [
    "# Run PageRank algorithm, and show results.\n",
    "results = g.pageRank(resetProbability=0.15, maxIter=10)\n",
    "results.vertices.select(\"id\", \"pagerank\").show()"
   ]
  },
  {
   "cell_type": "code",
   "execution_count": null,
   "metadata": {},
   "outputs": [],
   "source": []
  }
 ],
 "metadata": {
  "kernelspec": {
   "display_name": "Python 3",
   "language": "python",
   "name": "python3"
  },
  "language_info": {
   "codemirror_mode": {
    "name": "ipython",
    "version": 3
   },
   "file_extension": ".py",
   "mimetype": "text/x-python",
   "name": "python",
   "nbconvert_exporter": "python",
   "pygments_lexer": "ipython3",
   "version": "3.5.2"
  }
 },
 "nbformat": 4,
 "nbformat_minor": 2
}
